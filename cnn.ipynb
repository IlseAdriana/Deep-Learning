{
 "cells": [
  {
   "cell_type": "code",
   "execution_count": 1,
   "metadata": {},
   "outputs": [
    {
     "name": "stdout",
     "output_type": "stream",
     "text": [
      "Note: you may need to restart the kernel to use updated packages.\n"
     ]
    }
   ],
   "source": [
    "# Librería para calcular de forma fácil la exactitud\n",
    "\n",
    "%pip install torchmetrics --quiet"
   ]
  },
  {
   "attachments": {},
   "cell_type": "markdown",
   "metadata": {},
   "source": [
    "Usando una librería de python (Keras o Pytorch) desarrolle los modelos de Convolutional Neural Networks que se describen para cada\n",
    "problema en particular (usar una jupyter notebook por cada dataset y entregar todos en una carpeta zip).\n",
    "\n",
    "\n",
    "1. MNIST Dataset. Escalar las imágenes en un rango de [0,1]. Usar 10% del conjunto de prueba para validación en el entrenamiento. Usar\n",
    "como función de perdida categorical_crossentropy, optimizador adam y métrica exactitud durante el entrenamiento de 15 épocas. Aplicar\n",
    "zero-padding en las capas conv2d. Reportar valor de perdida y exactitud para entrenamiento y prueba. Tomando como referencia el\n",
    "siguiente diagrama:"
   ]
  },
  {
   "attachments": {},
   "cell_type": "markdown",
   "metadata": {},
   "source": [
    "1. Escalar las imágenes en un rango de [0,1]. \n"
   ]
  },
  {
   "cell_type": "code",
   "execution_count": 1,
   "metadata": {},
   "outputs": [],
   "source": [
    "import torchvision.datasets as datasets\n",
    "from torchvision import transforms\n",
    "\n",
    "# Normalizamos las imágenes en rango de 0 y 1\n",
    "transform = transforms.Compose([\n",
    "    transforms.ToTensor(),\n",
    "    transforms.Normalize((0.5,), (0.5,))\n",
    "])\n",
    "\n",
    "# Cargar dataset y normalizar\n",
    "mnist_trainset = datasets.MNIST(root='./data', train=True, download=True, transform=transform)\n",
    "mnist_testset = datasets.MNIST(root='./data', train=False, download=True, transform=transform)"
   ]
  },
  {
   "attachments": {},
   "cell_type": "markdown",
   "metadata": {},
   "source": [
    "2. Usar 10% del conjunto de prueba para validación en el entrenamiento. \n"
   ]
  },
  {
   "cell_type": "code",
   "execution_count": 5,
   "metadata": {},
   "outputs": [
    {
     "name": "stdout",
     "output_type": "stream",
     "text": [
      "Tamaño del conjunto de entrenamiento: 60000\n",
      "Tamaño del conjunto de prueba: 9000\n",
      "Tamaño del conjunto de validación: 1000\n"
     ]
    }
   ],
   "source": [
    "from torch.utils.data import random_split\n",
    "\n",
    "# Usar 10% del conjunto de prueba para validación en el entrenamiento. \n",
    "test_dataset_size = len(mnist_testset)\n",
    "\n",
    "validation_size = int(test_dataset_size * 0.1)\n",
    "test_size = test_dataset_size - validation_size\n",
    "\n",
    "mnist_validationset, mnist_testset = random_split(mnist_testset, [validation_size, test_size])\n",
    "\n",
    "print(f\"Tamaño del conjunto de entrenamiento: {len(mnist_trainset)}\")\n",
    "print(f\"Tamaño del conjunto de prueba: {len(mnist_testset)}\")\n",
    "print(f\"Tamaño del conjunto de validación: {len(mnist_validationset)}\")"
   ]
  },
  {
   "cell_type": "code",
   "execution_count": 2,
   "metadata": {},
   "outputs": [
    {
     "ename": "NameError",
     "evalue": "name 'mnist_validationset' is not defined",
     "output_type": "error",
     "traceback": [
      "\u001b[0;31m---------------------------------------------------------------------------\u001b[0m",
      "\u001b[0;31mNameError\u001b[0m                                 Traceback (most recent call last)",
      "Cell \u001b[0;32mIn[2], line 15\u001b[0m\n\u001b[1;32m      6\u001b[0m train_data \u001b[39m=\u001b[39m DataLoader(dataset\u001b[39m=\u001b[39mmnist_trainset, \n\u001b[1;32m      7\u001b[0m                         batch_size\u001b[39m=\u001b[39mbatch_size,\n\u001b[1;32m      8\u001b[0m                         num_workers\u001b[39m=\u001b[39m\u001b[39m2\u001b[39m,\n\u001b[1;32m      9\u001b[0m                         shuffle\u001b[39m=\u001b[39m\u001b[39mTrue\u001b[39;00m)\n\u001b[1;32m     11\u001b[0m test_data \u001b[39m=\u001b[39m DataLoader(dataset\u001b[39m=\u001b[39mmnist_trainset, \n\u001b[1;32m     12\u001b[0m                         batch_size\u001b[39m=\u001b[39mbatch_size,\n\u001b[1;32m     13\u001b[0m                         num_workers\u001b[39m=\u001b[39m\u001b[39m2\u001b[39m)\n\u001b[0;32m---> 15\u001b[0m val_data \u001b[39m=\u001b[39m DataLoader(dataset\u001b[39m=\u001b[39mmnist_validationset, \n\u001b[1;32m     16\u001b[0m                         batch_size\u001b[39m=\u001b[39mbatch_size,\n\u001b[1;32m     17\u001b[0m                         num_workers\u001b[39m=\u001b[39m\u001b[39m2\u001b[39m)\n",
      "\u001b[0;31mNameError\u001b[0m: name 'mnist_validationset' is not defined"
     ]
    }
   ],
   "source": [
    "from torch.utils.data import DataLoader\n",
    "\n",
    "batch_size = 64\n",
    "\n",
    "# Crear los conjuntos de entrenamiento, prueba y validación\n",
    "train_data = DataLoader(dataset=mnist_trainset, \n",
    "                        batch_size=batch_size,\n",
    "                        num_workers=2,\n",
    "                        shuffle=True)\n",
    "\n",
    "test_data = DataLoader(dataset=mnist_trainset, \n",
    "                        batch_size=batch_size,\n",
    "                        num_workers=2)\n",
    "\n",
    "val_data = DataLoader(dataset=mnist_validationset, \n",
    "                        batch_size=batch_size,\n",
    "                        num_workers=2)"
   ]
  },
  {
   "attachments": {},
   "cell_type": "markdown",
   "metadata": {},
   "source": [
    "![Red](https://neji3cswyd.clg07azjl.paperspacegradient.com/files/red.png?token=df62b5170a9372b81ef5eae580c731a5)\n",
    "\n",
    "4. Aplicar zero-padding en las capas conv2d. Reportar valor de perdida y exactitud para entrenamiento y prueba.\n",
    "\n",
    "a) Implemente la CNN del diagrama omitiendo las capas dropout e implemente EarlyStopping monitoreando la perdida del conjunto de\n",
    "validación y una paciencia de 2.\n",
    "\n"
   ]
  },
  {
   "cell_type": "code",
   "execution_count": 9,
   "metadata": {},
   "outputs": [
    {
     "name": "stdout",
     "output_type": "stream",
     "text": [
      "NeuralNetwork(\n",
      "  (network): Sequential(\n",
      "    (0): Conv2d(1, 32, kernel_size=(3, 3), stride=(1, 1), padding=(1, 1))\n",
      "    (1): ReLU()\n",
      "    (2): Conv2d(32, 64, kernel_size=(3, 3), stride=(1, 1), padding=(1, 1))\n",
      "    (3): ReLU()\n",
      "    (4): MaxPool2d(kernel_size=2, stride=2, padding=0, dilation=1, ceil_mode=False)\n",
      "    (5): Flatten(start_dim=1, end_dim=-1)\n",
      "    (6): Linear(in_features=9216, out_features=128, bias=True)\n",
      "    (7): Linear(in_features=128, out_features=10, bias=True)\n",
      "    (8): Softmax(dim=1)\n",
      "  )\n",
      ")\n"
     ]
    }
   ],
   "source": [
    "import torch\n",
    "import torch.nn as nn\n",
    "\n",
    "\n",
    "class NeuralNetwork(nn.Module):\n",
    "    def __init__(self, num_classes):\n",
    "        super(NeuralNetwork, self).__init__()\n",
    "\n",
    "        self.network = nn.Sequential(\n",
    "            nn.Conv2d(in_channels=1, out_channels=32, kernel_size=(3, 3), stride=1, padding=1),\n",
    "            nn.ReLU(),\n",
    "            nn.Conv2d(in_channels=32, out_channels=64, kernel_size=(3, 3), stride=1, padding=1),\n",
    "            nn.ReLU(),\n",
    "            nn.MaxPool2d(2, 2),\n",
    "\n",
    "            nn.Flatten(),\n",
    "            nn.Linear(in_features=9216, out_features=128),\n",
    "            nn.Linear(in_features=128, out_features=num_classes),\n",
    "            nn.Softmax(dim=1)\n",
    "        )\n",
    "\n",
    "    def forward(self, x):\n",
    "        return self.network(x)\n",
    "    \n",
    "\n",
    "model = NeuralNetwork(num_classes=10)\n",
    "print(model)"
   ]
  },
  {
   "cell_type": "code",
   "execution_count": 10,
   "metadata": {},
   "outputs": [
    {
     "data": {
      "text/plain": [
       "device(type='cpu')"
      ]
     },
     "execution_count": 10,
     "metadata": {},
     "output_type": "execute_result"
    }
   ],
   "source": [
    "import torch\n",
    "\n",
    "def get_device():\n",
    "    device = \"\"\n",
    "    if torch.cuda.is_available():\n",
    "        !nvidia-smi\n",
    "        device = torch.device('cuda')\n",
    "    else:\n",
    "        device = torch.device('cpu')\n",
    "\n",
    "    return device\n",
    "\n",
    "device = get_device()\n",
    "device"
   ]
  },
  {
   "cell_type": "code",
   "execution_count": 11,
   "metadata": {},
   "outputs": [],
   "source": [
    "criterion = nn.CrossEntropyLoss()\n",
    "optimizer = torch.optim.Adam(model.parameters())"
   ]
  },
  {
   "cell_type": "code",
   "execution_count": null,
   "metadata": {},
   "outputs": [],
   "source": [
    "import numpy as np\n",
    "\n",
    "from pytorchtools import EarlyStopping\n",
    "\n",
    "def train(model, patience, epochs):\n",
    "    train_losses = []\n",
    "    valid_losses = []"
   ]
  }
 ],
 "metadata": {
  "kernelspec": {
   "display_name": "env",
   "language": "python",
   "name": "python3"
  },
  "language_info": {
   "codemirror_mode": {
    "name": "ipython",
    "version": 3
   },
   "file_extension": ".py",
   "mimetype": "text/x-python",
   "name": "python",
   "nbconvert_exporter": "python",
   "pygments_lexer": "ipython3",
   "version": "3.11.3"
  },
  "orig_nbformat": 4
 },
 "nbformat": 4,
 "nbformat_minor": 2
}
